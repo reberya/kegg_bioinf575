{
 "cells": [
  {
   "cell_type": "markdown",
   "id": "6ff9bbdf-cc57-4215-bbe3-85efea9ee982",
   "metadata": {},
   "source": [
    "# BIOINF 575 - Group Project - Kegg Pathway Overlap\n",
    "#### Authors:\n",
    "* Ryan Rebernick\n",
    "* Elysia Chou\n",
    "* Mahnoor Gondal\n",
    "* Tusharika Rastogi\n"
   ]
  },
  {
   "cell_type": "markdown",
   "id": "b6563eb0-5fc4-424b-85e2-1d6d84c809ca",
   "metadata": {},
   "source": [
    "### Questions to be answered by each group member\n",
    "##### Question 1\n",
    "What was your biggest challenge in this project? (regarding writing code and not only)\n",
    "\n",
    "##### Question 2\n",
    "What did you learn while working on this project? (regarding writing code and not only)\n",
    "\n",
    "##### Question 3\n",
    "If you had more time on the project what other question(s) would you like to answer? (at least one question is required)"
   ]
  },
  {
   "cell_type": "markdown",
   "id": "1e4a1f9a-25ba-4ead-87fa-4458d3d50079",
   "metadata": {},
   "source": [
    "### Ryan Rebernick\n",
    "\n",
    "#### Question 1.\n",
    "The greatest challenge was learning to use pandas dataframes \n",
    "early on in the course. I worked on the first chunk of the project \n",
    "and this was right after we learned about dataframes and their \n",
    "functions. I had a lot of trouble merging appropriately and this \n",
    "took me the most time. \n",
    "\n",
    "\n",
    "#### Question 2.\n",
    "I learned how to read files into python, load them as pandas \n",
    "dataframes, and merge them. Additionally, I learned about \n",
    "computing pertinent summaries, heading files, and ensuring my \n",
    "data was correct.\n",
    "\n",
    "#### Question 3.\n",
    "I would like to take expression data from different cancer types \n",
    "and see how many pathways are expressed in each cancer type \n",
    "and what the differences in expressed pathways are between \n",
    "cancers.\n",
    "_____________________________________________________________________________________________________________________________________________________"
   ]
  },
  {
   "cell_type": "markdown",
   "id": "a0f7a528-5ff8-4bd0-8b93-47747b8f5f03",
   "metadata": {},
   "source": [
    "### Elysia Chou\n",
    "\n",
    "#### Question 1.\n",
    "My biggest challenge was going through my colleagues' code to figure out what they had done before me, and how I could use the data structures they had created to perform the step I was assigned. Not being well-versed in Pandas dataframes myself, parsing through specific lines of code would raise questions if I didn't run the code myself and inspect its elements. </br><br>\n",
    "I also realized that using the `os` library might have also made things go more smoothly when handing off parts of the code to colleagues; I made a string `path` that could be modified according to who was running the code and in what directory they wanted to put the results, because I kept having to change that manually for the code to run on my machine. \n",
    "\n",
    "#### Question 2.\n",
    "I learned a lot about the possibilities of using Pandas as well as different coding styles and strategies I could adapt to improve my own coding practice. Moreover, I learned the value of every team member using GitHub to have a central space to store all the files created throughout the project.\n",
    "\n",
    "#### Question 3.\n",
    "KEGG has many extensive databases and probably has more information on each pathway and gene we used in this project. It would be interesting to see what role the top 3 genes in our project play in the pathways they are a part of. Furthermore, when modeling certain pathways to study drug responses like Dr. Stacey Finley presented during one of the DCMB seminars, it would be interesting to see if including certain genes/proteins in the model would be redundant since they appear in the exact same number of pathways.\n",
    "\n",
    "_____________________________________________________________________________________________________________________________________________________"
   ]
  },
  {
   "cell_type": "markdown",
   "id": "f33b2d6c-cc86-4b91-8bca-66b2b997ba2a",
   "metadata": {},
   "source": [
    "### Mahnoor Gonadal\n",
    "\n",
    "#### Question 1\n",
    "For me, I was working on tasks 3 and 4 and the biggest challenge that I faced while working on them was merging the two dataframe in python. I was using the merge function for combining information from two dataframes and instead of converging on a unique column the code was exhaustively generating combinations and making billions of rows instead of million combinations. After debugging for a couple of hours I decided to draw what I was trying to do on a piece of paper and see if that is what the code was also doing. Once I conceptually saw the way merge command was working I realized that I needed to first make the data unique and then combine data on unique gene ids. When I updated the code according to my new understanding of the dataframe, everything worked as it was supposed to!  \n",
    "\n",
    "\n",
    "#### Question 2\n",
    "I learned three main things, the (1) first was how to work with multiple people and collaborate and rely on one another for completing the project, and transfer code the (2) second thing was regarding how to merge dataframes, and work with the merge function. The (3) third thing I learned was how to add in checks for the results to make sure its correct, for example, we needed to place some additional checks such; removes lines where pathway_ID1 == pathway_ID2 and pathway_ID2 == pathway_ID1 so this will give you the same rank/gene so we removed this duplication and pathway_ID1 == pathway_ID2. This taught me that sanity checks are very important.\n",
    "\n",
    "\n",
    "#### Question 3\n",
    "I think it would have been interesting to also link the genes together to understand if the common genes were also connected to each other and we could also have constructed a gene regulatory network (GRN) which can show us the level of that association. Additionally, We could also have incorporated gene expression data from different tissues which would have made clustering easier based on common genes. We could have then generated plots such as PCA or t-SNE and we would have been able to see some good cluster formation based on common genes in different tissues. \n",
    "\n",
    "_____________________________________________________________________________________________________________________________________________________"
   ]
  },
  {
   "cell_type": "markdown",
   "id": "9b7c4866-1cda-4c72-8ff9-d1c4a441ee92",
   "metadata": {},
   "source": [
    "### Tusharika Rastogi\n",
    "\n",
    "##### Question 1\n",
    "The challenge was to figure out why I could see the intersection between only 2 sets but mentioning that the function is plotting the venn diagram between the 3 sets.The venn diagram gave the labels for all the 3 genes (Gene 1, Gene 2, Gene 3), but I could see the venn diagram as it would have been had there been only 2 sets. I could see only one intersection. This issue was solved when I used the intersection function on the sets and came to know that 2 of the 3 sets were identical and had the same pathways(elements) in  them. The sets (Gene_2 and Gene3) being identical is the reason that the venn diagram came out to be the one as is in the python notebook. Furthermore, the identical sets were overlapped and then intersected with the remaining set.\n",
    "\n",
    "##### Question 2\n",
    "When I was stuck on the interpretation of the output, I learnt that one should use the basic fucnctions too when using the advanced ones. Furthermore, when plotting a dataset, one should check its conditions separately to understand what the ouput will be. Checking the plotting conditions separately will help in easy interpretation of the plot.\n",
    "\n",
    "##### Question 3\n",
    "If I had more time on the project, I would have found out the names of the pathways that were common in the top 3 genes and would have extracted the description of the pathway and its KEGG pathway id and entry number so that one can look out for more information for a particular pathway. \n",
    "\n",
    "_____________________________________________________________________________________________________________________________________________________"
   ]
  },
  {
   "cell_type": "code",
   "execution_count": 1,
   "id": "ce617644-6e50-4d3d-bed2-236430512bda",
   "metadata": {},
   "outputs": [],
   "source": [
    "import numpy as np\n",
    "import pandas as pd"
   ]
  },
  {
   "cell_type": "code",
   "execution_count": 2,
   "id": "ad8f8166-94f7-40dc-8c5b-e002fc595b0a",
   "metadata": {},
   "outputs": [],
   "source": [
    "# Create a path string to adjust at the beginning, depending on whose machine the code is running.\n",
    "path = './'"
   ]
  },
  {
   "cell_type": "markdown",
   "id": "248eeb90-2269-4e83-a7a7-4955fbf827af",
   "metadata": {},
   "source": [
    "## 1. Map/merge the information by PATHWAY_ID and GENE_ID. "
   ]
  },
  {
   "cell_type": "markdown",
   "id": "cc182fff-66e6-4da4-989d-69bbcde737fe",
   "metadata": {},
   "source": [
    "#### First we read in the data and store in dataframes for easy access."
   ]
  },
  {
   "cell_type": "code",
   "execution_count": 3,
   "id": "e4cffbdf-c8bf-4067-823d-7170c06ac7ac",
   "metadata": {},
   "outputs": [
    {
     "name": "stdout",
     "output_type": "stream",
     "text": [
      "      PATHWAY_ID                                       PATHWAY_INFO\n",
      "0  path:hsa00010  Glycolysis / Gluconeogenesis - Homo sapiens (h...\n",
      "1  path:hsa00020   Citrate cycle (TCA cycle) - Homo sapiens (human)\n",
      "2  path:hsa00030   Pentose phosphate pathway - Homo sapiens (human)\n",
      "3  path:hsa00040  Pentose and glucuronate interconversions - Hom...\n",
      "4  path:hsa00051  Fructose and mannose metabolism - Homo sapiens...\n",
      "(345, 2)\n",
      "     GENE_ID     PATHWAY_ID\n",
      "0  hsa:10327  path:hsa00010\n",
      "1    hsa:124  path:hsa00010\n",
      "2    hsa:125  path:hsa00010\n",
      "3    hsa:126  path:hsa00010\n",
      "4    hsa:127  path:hsa00010\n",
      "(35380, 2)\n",
      "         GENE_ID                                          GENE_INFO\n",
      "0  hsa:100423038                  MIR466, hsa-mir-466; microRNA 466\n",
      "1  hsa:100616498                   MIR378E, mir-378e; microRNA 378e\n",
      "2     hsa:442913  MIR376C, MIR368, MIRN368, MIRN376C, hsa-mir-36...\n",
      "3     hsa:574461                   MIR520E, MIRN520E; microRNA 520e\n",
      "4  hsa:100616159                             MIR4779; microRNA 4779\n",
      "(22199, 2)\n"
     ]
    }
   ],
   "source": [
    "\n",
    "# Read the pathway names\n",
    "pathway_pinfo = pd.read_table('http://rest.kegg.jp/list/pathway/hsa', header=None)\n",
    "pathway_pinfo.columns = ['PATHWAY_ID', 'PATHWAY_INFO']\n",
    "print(pathway_pinfo.head())\n",
    "print(np.shape(pathway_pinfo))\n",
    "\n",
    "# Read the gene-pathway\n",
    "geneid_pathway = pd.read_table('http://rest.kegg.jp/link/pathway/hsa', header=None)\n",
    "geneid_pathway.columns = ['GENE_ID', 'PATHWAY_ID']\n",
    "print(geneid_pathway.head())\n",
    "print(np.shape(geneid_pathway))\n",
    "\n",
    "# Read the pathway names\n",
    "geneid_ginfo = pd.read_table('http://rest.kegg.jp/list/hsa', header=None)\n",
    "geneid_ginfo.columns = ['GENE_ID', 'GENE_INFO']\n",
    "print(geneid_ginfo.head())\n",
    "print(np.shape(geneid_ginfo))\n"
   ]
  },
  {
   "cell_type": "markdown",
   "id": "76d96d2c-50ac-4982-a849-f5bfa5465f6a",
   "metadata": {},
   "source": [
    "#### Next we need to merge the information by pathway ids and gene ids\n",
    "\n",
    "UPDATE: The gene IDs with NaN gene info are not present in the original KEGG file.\n",
    "\n",
    "Note that in merging, some genes did not have values in the geneid_ginfo file. These were left as NaN. I have shown them for reference."
   ]
  },
  {
   "cell_type": "code",
   "execution_count": 4,
   "id": "8d964ece-6375-48b9-ae77-a6fc024eef05",
   "metadata": {},
   "outputs": [
    {
     "name": "stdout",
     "output_type": "stream",
     "text": [
      "Gene info with NaN values:\n",
      "Empty DataFrame\n",
      "Columns: [PATHWAY_ID, PATHWAY_INFO, GENE_ID, GENE_INFO]\n",
      "Index: []\n"
     ]
    }
   ],
   "source": [
    "\n",
    "# combine the pathway information and the gene ids\n",
    "merged = pd.merge(pathway_pinfo, geneid_pathway, on = 'PATHWAY_ID', how = 'outer')\n",
    "\n",
    "# add the gene info\n",
    "merged = pd.merge(merged, geneid_ginfo, on = 'GENE_ID', how = 'left')\n",
    "\n",
    "# sort and look at the result\n",
    "merged = merged.sort_values(by = 'PATHWAY_ID')\n",
    "#print(merged.head())\n",
    "#print(np.shape(merged))\n",
    "\n",
    "# View the NA genes\n",
    "print(\"Gene info with NaN values:\")\n",
    "print(merged[merged['GENE_INFO'].isnull()])\n",
    "\n"
   ]
  },
  {
   "cell_type": "markdown",
   "id": "a50d94de-121a-4e7e-a158-f58752cdd6ba",
   "metadata": {},
   "source": [
    "#### Save this file for future use"
   ]
  },
  {
   "cell_type": "code",
   "execution_count": 5,
   "id": "c5d3eb99-74e2-4e09-895c-cdea58a5c728",
   "metadata": {},
   "outputs": [],
   "source": [
    "\n",
    "merged.to_csv(path + '2.1_merged_genes_pathways.csv', sep = ',', mode = 'w', index=False)\n",
    "    "
   ]
  },
  {
   "cell_type": "markdown",
   "id": "2403a3e3-7e8a-4a63-865b-f0f1af298bad",
   "metadata": {},
   "source": [
    "## 2. Compute the number of overlapping genes between every 2 pathways.\n",
    "\n",
    "Our goal is to create a dataframe with 4 columns: pathway 1, pathway 2, the number of overlapping genes, and which genes overlap.\n",
    "To do this we will:\n",
    "\n",
    "* create a dictionary of each pathway to a set of its genes.\n",
    "* Then we will loop through each and compare it to the remaining pathways.\n",
    "* The output of this will be exported as a .csv file"
   ]
  },
  {
   "cell_type": "markdown",
   "id": "203e8793-cca1-4641-acf4-9a485b2c8921",
   "metadata": {},
   "source": [
    "#### First we read in our data that we previously generated\n",
    "If running separate scripts or picking up where you left off."
   ]
  },
  {
   "cell_type": "code",
   "execution_count": 6,
   "id": "ab38df5d-9224-4d34-8a2e-d98439a1569b",
   "metadata": {},
   "outputs": [],
   "source": [
    "# Run this is you are starting from this step\n",
    "merged = pd.read_table(path + '2.1_merged_genes_pathways.csv', sep=',')\n",
    "merged = merged.rename(columns={'pathway_id': 'PATHWAY_ID', 'pathway_info': 'PATHWAY_INFO', 'gene_id': 'GENE_ID', 'gene_info': 'GENE_INFO'})\n",
    "# merged.head()"
   ]
  },
  {
   "cell_type": "markdown",
   "id": "f394dd93-ac01-44fa-bc68-2cd63823d306",
   "metadata": {},
   "source": [
    "#### Next we will create dictionaries that store the pathways and a set of each pathways respective genes.\n"
   ]
  },
  {
   "cell_type": "code",
   "execution_count": 7,
   "id": "e495c391-6f78-42b0-94a5-b638e52e3ae2",
   "metadata": {},
   "outputs": [
    {
     "name": "stdout",
     "output_type": "stream",
     "text": [
      "['path:hsa00010' 'path:hsa00020']\n",
      "\n",
      "\n",
      "[('path:hsa00010', {'hsa:3939', 'hsa:2203', 'hsa:5214', 'hsa:2023', 'hsa:5224', 'hsa:5232', 'hsa:125', 'hsa:83440', 'hsa:5162', 'hsa:2645', 'hsa:84532', 'hsa:2026', 'hsa:222', 'hsa:2821', 'hsa:3099', 'hsa:219', 'hsa:3098', 'hsa:160287', 'hsa:669', 'hsa:501', 'hsa:5213', 'hsa:80201', 'hsa:5236', 'hsa:92483', 'hsa:387712', 'hsa:5211', 'hsa:128', 'hsa:5230', 'hsa:224', 'hsa:2538', 'hsa:226', 'hsa:5223', 'hsa:131', 'hsa:8789', 'hsa:92579', 'hsa:127', 'hsa:126', 'hsa:5106', 'hsa:5315', 'hsa:230', 'hsa:5161', 'hsa:1738', 'hsa:217', 'hsa:441531', 'hsa:5105', 'hsa:3101', 'hsa:1737', 'hsa:229', 'hsa:130589', 'hsa:5313', 'hsa:26330', 'hsa:221', 'hsa:3948', 'hsa:57818', 'hsa:130', 'hsa:3945', 'hsa:7167', 'hsa:2597', 'hsa:5160', 'hsa:2027', 'hsa:223', 'hsa:10327', 'hsa:55902', 'hsa:55276', 'hsa:124', 'hsa:9562', 'hsa:218'})]\n",
      "\n"
     ]
    }
   ],
   "source": [
    "\n",
    "# all the unique pathways\n",
    "unique_pathways = np.unique(merged['PATHWAY_ID'])\n",
    "print(unique_pathways[:2])\n",
    "\n",
    "# dictionary to store each pathwyas genes\n",
    "pathway_genes = {}\n",
    "\n",
    "# get the genes for each pathway and store in dictionary\n",
    "for pw in unique_pathways:\n",
    "    \n",
    "    # rows of df corresponding to current pathway\n",
    "    cur_pw = merged[merged.PATHWAY_ID == pw]\n",
    "    # the genes from the current rows\n",
    "    cur_genes = set(cur_pw.GENE_ID)\n",
    "    # add to dictionary\n",
    "    pathway_genes.update({pw:cur_genes})\n",
    "\n",
    "# look at the first dicionary entry\n",
    "print('\\n')\n",
    "print(list(pathway_genes.items())[:1])\n",
    "print()"
   ]
  },
  {
   "cell_type": "markdown",
   "id": "4295006b-3fbf-4bf8-805a-db75a1f464ab",
   "metadata": {},
   "source": [
    "#### Next we will loop through each pathway and crossref the overlapping genes with all the other pathways. The number of crossovers will be stored in a dataframe."
   ]
  },
  {
   "cell_type": "code",
   "execution_count": 8,
   "id": "eed4b520-aa6c-429a-ba9a-1b843a0b42b2",
   "metadata": {},
   "outputs": [
    {
     "name": "stdout",
     "output_type": "stream",
     "text": [
      "(59340, 4)\n"
     ]
    },
    {
     "data": {
      "text/html": [
       "<div>\n",
       "<style scoped>\n",
       "    .dataframe tbody tr th:only-of-type {\n",
       "        vertical-align: middle;\n",
       "    }\n",
       "\n",
       "    .dataframe tbody tr th {\n",
       "        vertical-align: top;\n",
       "    }\n",
       "\n",
       "    .dataframe thead th {\n",
       "        text-align: right;\n",
       "    }\n",
       "</style>\n",
       "<table border=\"1\" class=\"dataframe\">\n",
       "  <thead>\n",
       "    <tr style=\"text-align: right;\">\n",
       "      <th></th>\n",
       "      <th>PATHWAY_ID1</th>\n",
       "      <th>PATHWAY_ID2</th>\n",
       "      <th>NUM_OVERLAPPING_GENES</th>\n",
       "      <th>OVERLAPPING_GENES</th>\n",
       "    </tr>\n",
       "  </thead>\n",
       "  <tbody>\n",
       "    <tr>\n",
       "      <th>0</th>\n",
       "      <td>path:hsa00010</td>\n",
       "      <td>path:hsa00020</td>\n",
       "      <td>7</td>\n",
       "      <td>{hsa:5106, hsa:5161, hsa:1738, hsa:5162, hsa:5...</td>\n",
       "    </tr>\n",
       "    <tr>\n",
       "      <th>1</th>\n",
       "      <td>path:hsa00010</td>\n",
       "      <td>path:hsa00030</td>\n",
       "      <td>11</td>\n",
       "      <td>{hsa:5236, hsa:5213, hsa:2203, hsa:230, hsa:52...</td>\n",
       "    </tr>\n",
       "    <tr>\n",
       "      <th>2</th>\n",
       "      <td>path:hsa00010</td>\n",
       "      <td>path:hsa00040</td>\n",
       "      <td>1</td>\n",
       "      <td>{hsa:10327}</td>\n",
       "    </tr>\n",
       "    <tr>\n",
       "      <th>3</th>\n",
       "      <td>path:hsa00010</td>\n",
       "      <td>path:hsa00051</td>\n",
       "      <td>13</td>\n",
       "      <td>{hsa:5213, hsa:2203, hsa:80201, hsa:230, hsa:5...</td>\n",
       "    </tr>\n",
       "    <tr>\n",
       "      <th>4</th>\n",
       "      <td>path:hsa00010</td>\n",
       "      <td>path:hsa00052</td>\n",
       "      <td>14</td>\n",
       "      <td>{hsa:5236, hsa:5213, hsa:80201, hsa:5214, hsa:...</td>\n",
       "    </tr>\n",
       "    <tr>\n",
       "      <th>5</th>\n",
       "      <td>path:hsa00010</td>\n",
       "      <td>path:hsa00053</td>\n",
       "      <td>6</td>\n",
       "      <td>{hsa:501, hsa:224, hsa:217, hsa:223, hsa:10327...</td>\n",
       "    </tr>\n",
       "    <tr>\n",
       "      <th>6</th>\n",
       "      <td>path:hsa00010</td>\n",
       "      <td>path:hsa00061</td>\n",
       "      <td>0</td>\n",
       "      <td>{}</td>\n",
       "    </tr>\n",
       "    <tr>\n",
       "      <th>7</th>\n",
       "      <td>path:hsa00010</td>\n",
       "      <td>path:hsa00062</td>\n",
       "      <td>0</td>\n",
       "      <td>{}</td>\n",
       "    </tr>\n",
       "    <tr>\n",
       "      <th>8</th>\n",
       "      <td>path:hsa00010</td>\n",
       "      <td>path:hsa00071</td>\n",
       "      <td>12</td>\n",
       "      <td>{hsa:126, hsa:501, hsa:130, hsa:224, hsa:125, ...</td>\n",
       "    </tr>\n",
       "    <tr>\n",
       "      <th>9</th>\n",
       "      <td>path:hsa00010</td>\n",
       "      <td>path:hsa00100</td>\n",
       "      <td>0</td>\n",
       "      <td>{}</td>\n",
       "    </tr>\n",
       "  </tbody>\n",
       "</table>\n",
       "</div>"
      ],
      "text/plain": [
       "     PATHWAY_ID1    PATHWAY_ID2  NUM_OVERLAPPING_GENES  \\\n",
       "0  path:hsa00010  path:hsa00020                      7   \n",
       "1  path:hsa00010  path:hsa00030                     11   \n",
       "2  path:hsa00010  path:hsa00040                      1   \n",
       "3  path:hsa00010  path:hsa00051                     13   \n",
       "4  path:hsa00010  path:hsa00052                     14   \n",
       "5  path:hsa00010  path:hsa00053                      6   \n",
       "6  path:hsa00010  path:hsa00061                      0   \n",
       "7  path:hsa00010  path:hsa00062                      0   \n",
       "8  path:hsa00010  path:hsa00071                     12   \n",
       "9  path:hsa00010  path:hsa00100                      0   \n",
       "\n",
       "                                   OVERLAPPING_GENES  \n",
       "0  {hsa:5106, hsa:5161, hsa:1738, hsa:5162, hsa:5...  \n",
       "1  {hsa:5236, hsa:5213, hsa:2203, hsa:230, hsa:52...  \n",
       "2                                        {hsa:10327}  \n",
       "3  {hsa:5213, hsa:2203, hsa:80201, hsa:230, hsa:5...  \n",
       "4  {hsa:5236, hsa:5213, hsa:80201, hsa:5214, hsa:...  \n",
       "5  {hsa:501, hsa:224, hsa:217, hsa:223, hsa:10327...  \n",
       "6                                                 {}  \n",
       "7                                                 {}  \n",
       "8  {hsa:126, hsa:501, hsa:130, hsa:224, hsa:125, ...  \n",
       "9                                                 {}  "
      ]
     },
     "execution_count": 8,
     "metadata": {},
     "output_type": "execute_result"
    }
   ],
   "source": [
    "\n",
    "# lists to store values; will be converted into dataframe at the end\n",
    "pw_1_list = list()\n",
    "pw_2_list = list()\n",
    "gene_overlap_list = list()\n",
    "number_overlap_list = list()\n",
    "\n",
    "# for each pathway in the unique pathways\n",
    "for n in range(0, len(unique_pathways)):\n",
    "    \n",
    "    # first pathway\n",
    "    pw_1 = unique_pathways[n]\n",
    "    # genes from first pathway\n",
    "    pw_1_genes = pathway_genes.get(pw_1)\n",
    "    \n",
    "    # loop through other pathway combinations,\n",
    "    # such that no pair of pathways shows up twice,\n",
    "    # nor do we take pairs of which each element is the same pathway.\n",
    "    for nn in range(n+1, len(unique_pathways)):\n",
    "        \n",
    "        # second pathway\n",
    "        pw_2 = unique_pathways[nn]\n",
    "        # genes from first pathway\n",
    "        pw_2_genes = pathway_genes.get(pw_2)\n",
    "    \n",
    "        # compute overlapping genes\n",
    "        overlaps = pw_1_genes.intersection(pw_2_genes)\n",
    "        num_overalps = len(overlaps)\n",
    "    \n",
    "        # add to lists\n",
    "        pw_1_list.append(pw_1)\n",
    "        pw_2_list.append(pw_2)\n",
    "        gene_overlap_list.append(overlaps)\n",
    "        number_overlap_list.append(num_overalps)\n",
    "\n",
    "        \n",
    "# create dataframe from lists\n",
    "pathway_gene_overlaps = pd.DataFrame(list(zip(pw_1_list, pw_2_list, number_overlap_list, gene_overlap_list)), \n",
    "                                     columns = ['PATHWAY_ID1', 'PATHWAY_ID2', 'NUM_OVERLAPPING_GENES', 'OVERLAPPING_GENES'])\n",
    "\n",
    "# look at the first entries\n",
    "print(np.shape(pathway_gene_overlaps))\n",
    "pathway_gene_overlaps[:10]"
   ]
  },
  {
   "cell_type": "markdown",
   "id": "154ecb35-da3e-412f-b86c-5f341ae429d2",
   "metadata": {},
   "source": [
    "#### Save this file for future use"
   ]
  },
  {
   "cell_type": "code",
   "execution_count": 9,
   "id": "7965aa07-dec5-4d3e-ad37-2f73a15c14cc",
   "metadata": {},
   "outputs": [],
   "source": [
    "pathway_gene_overlaps.to_csv(path + '2.2_overlapping_genes.csv', sep = ',', mode = 'w', index=False)"
   ]
  },
  {
   "cell_type": "markdown",
   "id": "ebc43cab-780e-4cca-8ae3-81e124280441",
   "metadata": {},
   "source": [
    "## 3. Save the result to a file KEGG_crosstalk.csv \n",
    "This file should be saved with the following columns: PATHWAY_ID1, PATHWAY_NAME1, PATHWAY_ID2, PATHWAY_NAME2. Order the results descending by the number of overlapping genes where PATHWAY_ID1 is different than PATHWAY_ID2."
   ]
  },
  {
   "cell_type": "code",
   "execution_count": 10,
   "id": "5f16724a-92e8-49a7-82a5-65faa3d09cfe",
   "metadata": {},
   "outputs": [],
   "source": [
    "# Run if starting from here\n",
    "# pathway_pinfo = merged[['PATHWAY_ID', 'PATHWAY_INFO']]\n",
    "# pathway_pinfo = pathway_info.drop_duplicates()"
   ]
  },
  {
   "cell_type": "code",
   "execution_count": 11,
   "id": "1cd61fb5-61c8-4319-9156-61c0e5765588",
   "metadata": {},
   "outputs": [
    {
     "name": "stdout",
     "output_type": "stream",
     "text": [
      "(59340, 6)\n"
     ]
    }
   ],
   "source": [
    "#Add pathway information for pathway ID1\n",
    "# Using original pathway_pinfo obtained from KEGG (see step 1)\n",
    "Combined_pathways1 = pd.merge(pathway_gene_overlaps,\n",
    "                 pathway_pinfo,\n",
    "                 left_on='PATHWAY_ID1',\n",
    "                 right_on='PATHWAY_ID')\n",
    "\n",
    "# look at the first entries\n",
    "print(np.shape(Combined_pathways1))\n",
    "# DELETE LATER Combined_pathways1[346:700]"
   ]
  },
  {
   "cell_type": "code",
   "execution_count": 12,
   "id": "ecfe3c85-0aba-45ac-bf90-9446b00ec62f",
   "metadata": {},
   "outputs": [],
   "source": [
    "#Add pathway information for pathway ID2 and rearranging the dataframe into a new dataframe with updated information\n",
    "Combined_pathways2 = pd.merge(Combined_pathways1,\n",
    "                 pathway_pinfo,\n",
    "                 left_on = \"PATHWAY_ID2\",\n",
    "                 right_on = \"PATHWAY_ID\" )\n",
    "#print(Combined_pathways2.head())"
   ]
  },
  {
   "cell_type": "code",
   "execution_count": 13,
   "id": "78291136-f26a-4644-bddc-ba3822b76b96",
   "metadata": {},
   "outputs": [
    {
     "name": "stdout",
     "output_type": "stream",
     "text": [
      "     PATHWAY_ID1    PATHWAY_ID2  NUM_OVERLAPPING_GENES  \\\n",
      "0  path:hsa00010  path:hsa00020                      7   \n",
      "1  path:hsa00010  path:hsa00030                     11   \n",
      "2  path:hsa00020  path:hsa00030                      0   \n",
      "3  path:hsa00010  path:hsa00040                      1   \n",
      "4  path:hsa00020  path:hsa00040                      0   \n",
      "\n",
      "                                   OVERLAPPING_GENES   PATHWAY_ID_x  \\\n",
      "0  {hsa:5106, hsa:5161, hsa:1738, hsa:5162, hsa:5...  path:hsa00010   \n",
      "1  {hsa:5236, hsa:5213, hsa:2203, hsa:230, hsa:52...  path:hsa00010   \n",
      "2                                                 {}  path:hsa00020   \n",
      "3                                        {hsa:10327}  path:hsa00010   \n",
      "4                                                 {}  path:hsa00020   \n",
      "\n",
      "                                      PATHWAY_INFO_x   PATHWAY_ID_y  \\\n",
      "0  Glycolysis / Gluconeogenesis - Homo sapiens (h...  path:hsa00020   \n",
      "1  Glycolysis / Gluconeogenesis - Homo sapiens (h...  path:hsa00030   \n",
      "2   Citrate cycle (TCA cycle) - Homo sapiens (human)  path:hsa00030   \n",
      "3  Glycolysis / Gluconeogenesis - Homo sapiens (h...  path:hsa00040   \n",
      "4   Citrate cycle (TCA cycle) - Homo sapiens (human)  path:hsa00040   \n",
      "\n",
      "                                      PATHWAY_INFO_y  \n",
      "0   Citrate cycle (TCA cycle) - Homo sapiens (human)  \n",
      "1   Pentose phosphate pathway - Homo sapiens (human)  \n",
      "2   Pentose phosphate pathway - Homo sapiens (human)  \n",
      "3  Pentose and glucuronate interconversions - Hom...  \n",
      "4  Pentose and glucuronate interconversions - Hom...  \n"
     ]
    }
   ],
   "source": [
    "# DELETE LATER\n",
    "print(Combined_pathways2.head())"
   ]
  },
  {
   "cell_type": "code",
   "execution_count": 14,
   "id": "729ada10-90e5-4b47-9183-b815938b9947",
   "metadata": {},
   "outputs": [
    {
     "name": "stdout",
     "output_type": "stream",
     "text": [
      "(59340, 6)\n"
     ]
    },
    {
     "data": {
      "text/html": [
       "<div>\n",
       "<style scoped>\n",
       "    .dataframe tbody tr th:only-of-type {\n",
       "        vertical-align: middle;\n",
       "    }\n",
       "\n",
       "    .dataframe tbody tr th {\n",
       "        vertical-align: top;\n",
       "    }\n",
       "\n",
       "    .dataframe thead th {\n",
       "        text-align: right;\n",
       "    }\n",
       "</style>\n",
       "<table border=\"1\" class=\"dataframe\">\n",
       "  <thead>\n",
       "    <tr style=\"text-align: right;\">\n",
       "      <th></th>\n",
       "      <th>PATHWAY_ID1</th>\n",
       "      <th>PATHWAY_NAME1</th>\n",
       "      <th>PATHWAY_ID2</th>\n",
       "      <th>PATHWAY_NAME2</th>\n",
       "      <th>NUM_OVERLAPPING_GENES</th>\n",
       "      <th>OVERLAPPING_GENES</th>\n",
       "    </tr>\n",
       "  </thead>\n",
       "  <tbody>\n",
       "    <tr>\n",
       "      <th>35772</th>\n",
       "      <td>path:hsa05010</td>\n",
       "      <td>Alzheimer disease - Homo sapiens (human)</td>\n",
       "      <td>path:hsa05022</td>\n",
       "      <td>Pathways of neurodegeneration - multiple disea...</td>\n",
       "      <td>333</td>\n",
       "      <td>{hsa:7474, hsa:27123, hsa:7473, hsa:8324, hsa:...</td>\n",
       "    </tr>\n",
       "    <tr>\n",
       "      <th>35774</th>\n",
       "      <td>path:hsa05014</td>\n",
       "      <td>Amyotrophic lateral sclerosis - Homo sapiens (...</td>\n",
       "      <td>path:hsa05022</td>\n",
       "      <td>Pathways of neurodegeneration - multiple disea...</td>\n",
       "      <td>294</td>\n",
       "      <td>{hsa:126328, hsa:55626, hsa:9861, hsa:81027, h...</td>\n",
       "    </tr>\n",
       "    <tr>\n",
       "      <th>35775</th>\n",
       "      <td>path:hsa05016</td>\n",
       "      <td>Huntington disease - Homo sapiens (human)</td>\n",
       "      <td>path:hsa05022</td>\n",
       "      <td>Pathways of neurodegeneration - multiple disea...</td>\n",
       "      <td>251</td>\n",
       "      <td>{hsa:126328, hsa:55626, hsa:9861, hsa:81027, h...</td>\n",
       "    </tr>\n",
       "    <tr>\n",
       "      <th>35773</th>\n",
       "      <td>path:hsa05012</td>\n",
       "      <td>Parkinson disease - Homo sapiens (human)</td>\n",
       "      <td>path:hsa05022</td>\n",
       "      <td>Pathways of neurodegeneration - multiple disea...</td>\n",
       "      <td>228</td>\n",
       "      <td>{hsa:7316, hsa:6263, hsa:126328, hsa:9861, hsa...</td>\n",
       "    </tr>\n",
       "    <tr>\n",
       "      <th>34979</th>\n",
       "      <td>path:hsa05014</td>\n",
       "      <td>Amyotrophic lateral sclerosis - Homo sapiens (...</td>\n",
       "      <td>path:hsa05016</td>\n",
       "      <td>Huntington disease - Homo sapiens (human)</td>\n",
       "      <td>224</td>\n",
       "      <td>{hsa:126328, hsa:55626, hsa:9861, hsa:81027, h...</td>\n",
       "    </tr>\n",
       "    <tr>\n",
       "      <th>35777</th>\n",
       "      <td>path:hsa05020</td>\n",
       "      <td>Prion disease - Homo sapiens (human)</td>\n",
       "      <td>path:hsa05022</td>\n",
       "      <td>Pathways of neurodegeneration - multiple disea...</td>\n",
       "      <td>220</td>\n",
       "      <td>{hsa:6263, hsa:126328, hsa:9861, hsa:81027, hs...</td>\n",
       "    </tr>\n",
       "    <tr>\n",
       "      <th>35506</th>\n",
       "      <td>path:hsa05010</td>\n",
       "      <td>Alzheimer disease - Homo sapiens (human)</td>\n",
       "      <td>path:hsa05020</td>\n",
       "      <td>Prion disease - Homo sapiens (human)</td>\n",
       "      <td>214</td>\n",
       "      <td>{hsa:5290, hsa:6263, hsa:126328, hsa:9861, hsa...</td>\n",
       "    </tr>\n",
       "    <tr>\n",
       "      <th>34452</th>\n",
       "      <td>path:hsa05010</td>\n",
       "      <td>Alzheimer disease - Homo sapiens (human)</td>\n",
       "      <td>path:hsa05012</td>\n",
       "      <td>Parkinson disease - Homo sapiens (human)</td>\n",
       "      <td>208</td>\n",
       "      <td>{hsa:6263, hsa:126328, hsa:4891, hsa:9861, hsa...</td>\n",
       "    </tr>\n",
       "    <tr>\n",
       "      <th>34714</th>\n",
       "      <td>path:hsa05010</td>\n",
       "      <td>Alzheimer disease - Homo sapiens (human)</td>\n",
       "      <td>path:hsa05014</td>\n",
       "      <td>Amyotrophic lateral sclerosis - Homo sapiens (...</td>\n",
       "      <td>206</td>\n",
       "      <td>{hsa:126328, hsa:55626, hsa:9861, hsa:81027, h...</td>\n",
       "    </tr>\n",
       "    <tr>\n",
       "      <th>34977</th>\n",
       "      <td>path:hsa05010</td>\n",
       "      <td>Alzheimer disease - Homo sapiens (human)</td>\n",
       "      <td>path:hsa05016</td>\n",
       "      <td>Huntington disease - Homo sapiens (human)</td>\n",
       "      <td>202</td>\n",
       "      <td>{hsa:126328, hsa:55626, hsa:9861, hsa:81027, h...</td>\n",
       "    </tr>\n",
       "  </tbody>\n",
       "</table>\n",
       "</div>"
      ],
      "text/plain": [
       "         PATHWAY_ID1                                      PATHWAY_NAME1  \\\n",
       "35772  path:hsa05010           Alzheimer disease - Homo sapiens (human)   \n",
       "35774  path:hsa05014  Amyotrophic lateral sclerosis - Homo sapiens (...   \n",
       "35775  path:hsa05016          Huntington disease - Homo sapiens (human)   \n",
       "35773  path:hsa05012           Parkinson disease - Homo sapiens (human)   \n",
       "34979  path:hsa05014  Amyotrophic lateral sclerosis - Homo sapiens (...   \n",
       "35777  path:hsa05020               Prion disease - Homo sapiens (human)   \n",
       "35506  path:hsa05010           Alzheimer disease - Homo sapiens (human)   \n",
       "34452  path:hsa05010           Alzheimer disease - Homo sapiens (human)   \n",
       "34714  path:hsa05010           Alzheimer disease - Homo sapiens (human)   \n",
       "34977  path:hsa05010           Alzheimer disease - Homo sapiens (human)   \n",
       "\n",
       "         PATHWAY_ID2                                      PATHWAY_NAME2  \\\n",
       "35772  path:hsa05022  Pathways of neurodegeneration - multiple disea...   \n",
       "35774  path:hsa05022  Pathways of neurodegeneration - multiple disea...   \n",
       "35775  path:hsa05022  Pathways of neurodegeneration - multiple disea...   \n",
       "35773  path:hsa05022  Pathways of neurodegeneration - multiple disea...   \n",
       "34979  path:hsa05016          Huntington disease - Homo sapiens (human)   \n",
       "35777  path:hsa05022  Pathways of neurodegeneration - multiple disea...   \n",
       "35506  path:hsa05020               Prion disease - Homo sapiens (human)   \n",
       "34452  path:hsa05012           Parkinson disease - Homo sapiens (human)   \n",
       "34714  path:hsa05014  Amyotrophic lateral sclerosis - Homo sapiens (...   \n",
       "34977  path:hsa05016          Huntington disease - Homo sapiens (human)   \n",
       "\n",
       "       NUM_OVERLAPPING_GENES  \\\n",
       "35772                    333   \n",
       "35774                    294   \n",
       "35775                    251   \n",
       "35773                    228   \n",
       "34979                    224   \n",
       "35777                    220   \n",
       "35506                    214   \n",
       "34452                    208   \n",
       "34714                    206   \n",
       "34977                    202   \n",
       "\n",
       "                                       OVERLAPPING_GENES  \n",
       "35772  {hsa:7474, hsa:27123, hsa:7473, hsa:8324, hsa:...  \n",
       "35774  {hsa:126328, hsa:55626, hsa:9861, hsa:81027, h...  \n",
       "35775  {hsa:126328, hsa:55626, hsa:9861, hsa:81027, h...  \n",
       "35773  {hsa:7316, hsa:6263, hsa:126328, hsa:9861, hsa...  \n",
       "34979  {hsa:126328, hsa:55626, hsa:9861, hsa:81027, h...  \n",
       "35777  {hsa:6263, hsa:126328, hsa:9861, hsa:81027, hs...  \n",
       "35506  {hsa:5290, hsa:6263, hsa:126328, hsa:9861, hsa...  \n",
       "34452  {hsa:6263, hsa:126328, hsa:4891, hsa:9861, hsa...  \n",
       "34714  {hsa:126328, hsa:55626, hsa:9861, hsa:81027, h...  \n",
       "34977  {hsa:126328, hsa:55626, hsa:9861, hsa:81027, h...  "
      ]
     },
     "execution_count": 14,
     "metadata": {},
     "output_type": "execute_result"
    }
   ],
   "source": [
    "del Combined_pathways2[\"PATHWAY_ID_x\"],Combined_pathways2[\"PATHWAY_ID_y\"]\n",
    "Combined_pathways2 = Combined_pathways2.rename(columns={'PATHWAY_INFO_x': 'PATHWAY_NAME1', 'PATHWAY_INFO_y': 'PATHWAY_NAME2'})\n",
    "Combined_pathways2 = Combined_pathways2[[\"PATHWAY_ID1\", \"PATHWAY_NAME1\", \"PATHWAY_ID2\", \"PATHWAY_NAME2\", \"NUM_OVERLAPPING_GENES\", \"OVERLAPPING_GENES\"]]\n",
    "Updated_data = Combined_pathways2.sort_values(by=['NUM_OVERLAPPING_GENES'], ascending=False)\n",
    "\n",
    "# look at the first entries\n",
    "print(np.shape(Updated_data))\n",
    "Updated_data[:10]"
   ]
  },
  {
   "cell_type": "code",
   "execution_count": 15,
   "id": "c0a94fc4-3e9b-4420-b686-3579fe1658cf",
   "metadata": {},
   "outputs": [],
   "source": [
    "#Save the result to a file KEGG_crosstalk.csv with the following columns: \n",
    "#PATHWAY_ID1, PATHWAY_NAME1, PATHWAY_ID2, PATHWAY_NAME2. \n",
    "\n",
    "Updated_data.to_csv(path + '2.3_KEGG_crosstalk.csv')"
   ]
  },
  {
   "cell_type": "markdown",
   "id": "bbf82e42-a3d1-46e6-be53-a49db1edf59f",
   "metadata": {},
   "source": [
    "## 4. Compute a rank of the genes based on how many pathways they appear on and save it to a file."
   ]
  },
  {
   "cell_type": "code",
   "execution_count": 16,
   "id": "4f1444e2-627b-4997-a4b8-a3001b3b7021",
   "metadata": {},
   "outputs": [],
   "source": [
    "#Function to extract gene_description\n",
    "def get_description(info):\n",
    "    if type(info) == float:\n",
    "        return \"\"\n",
    "    return info.split(\";\")[-1]\n",
    "    "
   ]
  },
  {
   "cell_type": "code",
   "execution_count": 17,
   "id": "90fe05ae-b1d0-428f-8657-12139c266863",
   "metadata": {},
   "outputs": [],
   "source": [
    "#Apply function to extract gene description and add it to the data\n",
    "merged['gene_description'] = merged['GENE_INFO'].apply(get_description)"
   ]
  },
  {
   "cell_type": "code",
   "execution_count": 18,
   "id": "45babdf1-4fd6-46d8-b115-8c0cb5984ad4",
   "metadata": {},
   "outputs": [
    {
     "name": "stdout",
     "output_type": "stream",
     "text": [
      "(35380, 5)\n"
     ]
    },
    {
     "data": {
      "text/html": [
       "<div>\n",
       "<style scoped>\n",
       "    .dataframe tbody tr th:only-of-type {\n",
       "        vertical-align: middle;\n",
       "    }\n",
       "\n",
       "    .dataframe tbody tr th {\n",
       "        vertical-align: top;\n",
       "    }\n",
       "\n",
       "    .dataframe thead th {\n",
       "        text-align: right;\n",
       "    }\n",
       "</style>\n",
       "<table border=\"1\" class=\"dataframe\">\n",
       "  <thead>\n",
       "    <tr style=\"text-align: right;\">\n",
       "      <th></th>\n",
       "      <th>PATHWAY_ID</th>\n",
       "      <th>PATHWAY_INFO</th>\n",
       "      <th>GENE_ID</th>\n",
       "      <th>GENE_INFO</th>\n",
       "      <th>gene_description</th>\n",
       "    </tr>\n",
       "  </thead>\n",
       "  <tbody>\n",
       "    <tr>\n",
       "      <th>0</th>\n",
       "      <td>path:hsa00010</td>\n",
       "      <td>Glycolysis / Gluconeogenesis - Homo sapiens (h...</td>\n",
       "      <td>hsa:10327</td>\n",
       "      <td>AKR1A1, ALDR1, ALR, ARM, DD3, HEL-S-6; aldo-ke...</td>\n",
       "      <td>aldo-keto reductase family 1 member A1</td>\n",
       "    </tr>\n",
       "    <tr>\n",
       "      <th>1</th>\n",
       "      <td>path:hsa00010</td>\n",
       "      <td>Glycolysis / Gluconeogenesis - Homo sapiens (h...</td>\n",
       "      <td>hsa:3945</td>\n",
       "      <td>LDHB, HEL-S-281, LDH-B, LDH-H, LDHBD, TRG-5; l...</td>\n",
       "      <td>lactate dehydrogenase B</td>\n",
       "    </tr>\n",
       "    <tr>\n",
       "      <th>2</th>\n",
       "      <td>path:hsa00010</td>\n",
       "      <td>Glycolysis / Gluconeogenesis - Homo sapiens (h...</td>\n",
       "      <td>hsa:3948</td>\n",
       "      <td>LDHC, CT32, LDH3, LDHX; lactate dehydrogenase C</td>\n",
       "      <td>lactate dehydrogenase C</td>\n",
       "    </tr>\n",
       "    <tr>\n",
       "      <th>3</th>\n",
       "      <td>path:hsa00010</td>\n",
       "      <td>Glycolysis / Gluconeogenesis - Homo sapiens (h...</td>\n",
       "      <td>hsa:441531</td>\n",
       "      <td>PGAM4, PGAM-B, PGAM1, PGAM3, dJ1000K24.1; phos...</td>\n",
       "      <td>phosphoglycerate mutase family member 4</td>\n",
       "    </tr>\n",
       "    <tr>\n",
       "      <th>4</th>\n",
       "      <td>path:hsa00010</td>\n",
       "      <td>Glycolysis / Gluconeogenesis - Homo sapiens (h...</td>\n",
       "      <td>hsa:501</td>\n",
       "      <td>ALDH7A1, ATQ1, EPD, PDE; aldehyde dehydrogenas...</td>\n",
       "      <td>aldehyde dehydrogenase 7 family member A1</td>\n",
       "    </tr>\n",
       "    <tr>\n",
       "      <th>5</th>\n",
       "      <td>path:hsa00010</td>\n",
       "      <td>Glycolysis / Gluconeogenesis - Homo sapiens (h...</td>\n",
       "      <td>hsa:5106</td>\n",
       "      <td>PCK2, PEPCK, PEPCK-M, PEPCK2; phosphoenolpyruv...</td>\n",
       "      <td>phosphoenolpyruvate carboxykinase 2, mitochon...</td>\n",
       "    </tr>\n",
       "    <tr>\n",
       "      <th>6</th>\n",
       "      <td>path:hsa00010</td>\n",
       "      <td>Glycolysis / Gluconeogenesis - Homo sapiens (h...</td>\n",
       "      <td>hsa:5160</td>\n",
       "      <td>PDHA1, PDHA, PDHAD, PDHCE1A, PHE1A; pyruvate d...</td>\n",
       "      <td>pyruvate dehydrogenase E1 subunit alpha 1</td>\n",
       "    </tr>\n",
       "    <tr>\n",
       "      <th>7</th>\n",
       "      <td>path:hsa00010</td>\n",
       "      <td>Glycolysis / Gluconeogenesis - Homo sapiens (h...</td>\n",
       "      <td>hsa:5161</td>\n",
       "      <td>PDHA2, PDHAL; pyruvate dehydrogenase E1 subuni...</td>\n",
       "      <td>pyruvate dehydrogenase E1 subunit alpha 2</td>\n",
       "    </tr>\n",
       "    <tr>\n",
       "      <th>8</th>\n",
       "      <td>path:hsa00010</td>\n",
       "      <td>Glycolysis / Gluconeogenesis - Homo sapiens (h...</td>\n",
       "      <td>hsa:5162</td>\n",
       "      <td>PDHB, PDHBD, PDHE1-B, PDHE1B, PHE1B; pyruvate ...</td>\n",
       "      <td>pyruvate dehydrogenase E1 subunit beta</td>\n",
       "    </tr>\n",
       "    <tr>\n",
       "      <th>9</th>\n",
       "      <td>path:hsa00010</td>\n",
       "      <td>Glycolysis / Gluconeogenesis - Homo sapiens (h...</td>\n",
       "      <td>hsa:5211</td>\n",
       "      <td>PFKL, ATP-PFK, PFK-B, PFK-L; phosphofructokina...</td>\n",
       "      <td>phosphofructokinase, liver type</td>\n",
       "    </tr>\n",
       "  </tbody>\n",
       "</table>\n",
       "</div>"
      ],
      "text/plain": [
       "      PATHWAY_ID                                       PATHWAY_INFO  \\\n",
       "0  path:hsa00010  Glycolysis / Gluconeogenesis - Homo sapiens (h...   \n",
       "1  path:hsa00010  Glycolysis / Gluconeogenesis - Homo sapiens (h...   \n",
       "2  path:hsa00010  Glycolysis / Gluconeogenesis - Homo sapiens (h...   \n",
       "3  path:hsa00010  Glycolysis / Gluconeogenesis - Homo sapiens (h...   \n",
       "4  path:hsa00010  Glycolysis / Gluconeogenesis - Homo sapiens (h...   \n",
       "5  path:hsa00010  Glycolysis / Gluconeogenesis - Homo sapiens (h...   \n",
       "6  path:hsa00010  Glycolysis / Gluconeogenesis - Homo sapiens (h...   \n",
       "7  path:hsa00010  Glycolysis / Gluconeogenesis - Homo sapiens (h...   \n",
       "8  path:hsa00010  Glycolysis / Gluconeogenesis - Homo sapiens (h...   \n",
       "9  path:hsa00010  Glycolysis / Gluconeogenesis - Homo sapiens (h...   \n",
       "\n",
       "      GENE_ID                                          GENE_INFO  \\\n",
       "0   hsa:10327  AKR1A1, ALDR1, ALR, ARM, DD3, HEL-S-6; aldo-ke...   \n",
       "1    hsa:3945  LDHB, HEL-S-281, LDH-B, LDH-H, LDHBD, TRG-5; l...   \n",
       "2    hsa:3948    LDHC, CT32, LDH3, LDHX; lactate dehydrogenase C   \n",
       "3  hsa:441531  PGAM4, PGAM-B, PGAM1, PGAM3, dJ1000K24.1; phos...   \n",
       "4     hsa:501  ALDH7A1, ATQ1, EPD, PDE; aldehyde dehydrogenas...   \n",
       "5    hsa:5106  PCK2, PEPCK, PEPCK-M, PEPCK2; phosphoenolpyruv...   \n",
       "6    hsa:5160  PDHA1, PDHA, PDHAD, PDHCE1A, PHE1A; pyruvate d...   \n",
       "7    hsa:5161  PDHA2, PDHAL; pyruvate dehydrogenase E1 subuni...   \n",
       "8    hsa:5162  PDHB, PDHBD, PDHE1-B, PDHE1B, PHE1B; pyruvate ...   \n",
       "9    hsa:5211  PFKL, ATP-PFK, PFK-B, PFK-L; phosphofructokina...   \n",
       "\n",
       "                                    gene_description  \n",
       "0             aldo-keto reductase family 1 member A1  \n",
       "1                            lactate dehydrogenase B  \n",
       "2                            lactate dehydrogenase C  \n",
       "3            phosphoglycerate mutase family member 4  \n",
       "4          aldehyde dehydrogenase 7 family member A1  \n",
       "5   phosphoenolpyruvate carboxykinase 2, mitochon...  \n",
       "6          pyruvate dehydrogenase E1 subunit alpha 1  \n",
       "7          pyruvate dehydrogenase E1 subunit alpha 2  \n",
       "8             pyruvate dehydrogenase E1 subunit beta  \n",
       "9                    phosphofructokinase, liver type  "
      ]
     },
     "execution_count": 18,
     "metadata": {},
     "output_type": "execute_result"
    }
   ],
   "source": [
    "#Apply gene_id for genes without any pathway assigned i.e NaN in description\n",
    "merged.gene_description[(merged.gene_description == \"\")] = merged.GENE_ID[(merged.gene_description == \"\")]\n",
    "\n",
    "# look at the first entries\n",
    "print(np.shape(merged))\n",
    "merged[:10]"
   ]
  },
  {
   "cell_type": "code",
   "execution_count": 19,
   "id": "deab2d70-281b-4f14-8873-8d85c0acdb3b",
   "metadata": {},
   "outputs": [
    {
     "name": "stdout",
     "output_type": "stream",
     "text": [
      "(8110, 1)\n"
     ]
    },
    {
     "data": {
      "text/html": [
       "<div>\n",
       "<style scoped>\n",
       "    .dataframe tbody tr th:only-of-type {\n",
       "        vertical-align: middle;\n",
       "    }\n",
       "\n",
       "    .dataframe tbody tr th {\n",
       "        vertical-align: top;\n",
       "    }\n",
       "\n",
       "    .dataframe thead th {\n",
       "        text-align: right;\n",
       "    }\n",
       "</style>\n",
       "<table border=\"1\" class=\"dataframe\">\n",
       "  <thead>\n",
       "    <tr style=\"text-align: right;\">\n",
       "      <th></th>\n",
       "      <th>gene_rank</th>\n",
       "    </tr>\n",
       "    <tr>\n",
       "      <th>gene_description</th>\n",
       "      <th></th>\n",
       "    </tr>\n",
       "  </thead>\n",
       "  <tbody>\n",
       "    <tr>\n",
       "      <th>mitogen-activated protein kinase 3</th>\n",
       "      <td>117</td>\n",
       "    </tr>\n",
       "    <tr>\n",
       "      <th>mitogen-activated protein kinase 1</th>\n",
       "      <td>117</td>\n",
       "    </tr>\n",
       "    <tr>\n",
       "      <th>phosphatidylinositol-4,5-bisphosphate 3-kinase catalytic subunit delta</th>\n",
       "      <td>106</td>\n",
       "    </tr>\n",
       "    <tr>\n",
       "      <th>phosphatidylinositol-4,5-bisphosphate 3-kinase catalytic subunit alpha</th>\n",
       "      <td>106</td>\n",
       "    </tr>\n",
       "    <tr>\n",
       "      <th>phosphatidylinositol-4,5-bisphosphate 3-kinase catalytic subunit beta</th>\n",
       "      <td>106</td>\n",
       "    </tr>\n",
       "    <tr>\n",
       "      <th>phosphoinositide-3-kinase regulatory subunit 3</th>\n",
       "      <td>103</td>\n",
       "    </tr>\n",
       "    <tr>\n",
       "      <th>phosphoinositide-3-kinase regulatory subunit 2</th>\n",
       "      <td>103</td>\n",
       "    </tr>\n",
       "    <tr>\n",
       "      <th>phosphoinositide-3-kinase regulatory subunit 1</th>\n",
       "      <td>103</td>\n",
       "    </tr>\n",
       "    <tr>\n",
       "      <th>AKT serine/threonine kinase 3</th>\n",
       "      <td>100</td>\n",
       "    </tr>\n",
       "    <tr>\n",
       "      <th>AKT serine/threonine kinase 1</th>\n",
       "      <td>100</td>\n",
       "    </tr>\n",
       "  </tbody>\n",
       "</table>\n",
       "</div>"
      ],
      "text/plain": [
       "                                                    gene_rank\n",
       "gene_description                                             \n",
       " mitogen-activated protein kinase 3                       117\n",
       " mitogen-activated protein kinase 1                       117\n",
       " phosphatidylinositol-4,5-bisphosphate 3-kinase...        106\n",
       " phosphatidylinositol-4,5-bisphosphate 3-kinase...        106\n",
       " phosphatidylinositol-4,5-bisphosphate 3-kinase...        106\n",
       " phosphoinositide-3-kinase regulatory subunit 3           103\n",
       " phosphoinositide-3-kinase regulatory subunit 2           103\n",
       " phosphoinositide-3-kinase regulatory subunit 1           103\n",
       " AKT serine/threonine kinase 3                            100\n",
       " AKT serine/threonine kinase 1                            100"
      ]
     },
     "execution_count": 19,
     "metadata": {},
     "output_type": "execute_result"
    }
   ],
   "source": [
    "#Compute rank of the genes based on how many pathways they appear in\n",
    "gene_rank = merged.groupby(['gene_description'])['PATHWAY_ID'].count().sort_values(ascending=False)\n",
    "gene_rank = pd.DataFrame(gene_rank)\n",
    "gene_rank['gene_rank'] = gene_rank['PATHWAY_ID']\n",
    "\n",
    "del gene_rank['PATHWAY_ID']\n",
    "\n",
    "# look at the first entries\n",
    "print(np.shape(gene_rank))\n",
    "gene_rank[:10]\n",
    "\n",
    "# The resulting dataframe suggests that the order of the genes was largely sorted on reverse \n",
    "# alphabetical order as well, which is why in step 5, the top 3 genes include the \n",
    "# phosphatidylinositol-4,5-bisphosphate 3-kinase catalytic subunit delta rather than\n",
    "# the other two subunits alpha or beta."
   ]
  },
  {
   "cell_type": "code",
   "execution_count": 20,
   "id": "8e28f93a-d7f8-472e-bebd-c56f9561d8fe",
   "metadata": {},
   "outputs": [],
   "source": [
    "#Save the result to a file\n",
    "gene_rank.to_csv(path + '2.4_Gene_Rank.csv')"
   ]
  },
  {
   "cell_type": "markdown",
   "id": "2addb7ac-fc9d-4a4a-a6bf-552e015894cd",
   "metadata": {},
   "source": [
    "## 5. Retrieve a set of the pathways the top 3 genes appear on."
   ]
  },
  {
   "cell_type": "code",
   "execution_count": 21,
   "id": "17b468bc-da51-4207-860a-81df7d9b5dde",
   "metadata": {},
   "outputs": [],
   "source": [
    "# Run this if you start from this step:\n",
    "# gene_rank = pd.read_table(path + '2.4_Gene_Rank.csv', sep=',')"
   ]
  },
  {
   "cell_type": "code",
   "execution_count": 24,
   "id": "c9dbb314-729e-4240-a8f5-8f8729203d35",
   "metadata": {},
   "outputs": [
    {
     "data": {
      "text/html": [
       "<div>\n",
       "<style scoped>\n",
       "    .dataframe tbody tr th:only-of-type {\n",
       "        vertical-align: middle;\n",
       "    }\n",
       "\n",
       "    .dataframe tbody tr th {\n",
       "        vertical-align: top;\n",
       "    }\n",
       "\n",
       "    .dataframe thead th {\n",
       "        text-align: right;\n",
       "    }\n",
       "</style>\n",
       "<table border=\"1\" class=\"dataframe\">\n",
       "  <thead>\n",
       "    <tr style=\"text-align: right;\">\n",
       "      <th></th>\n",
       "      <th>gene_rank</th>\n",
       "    </tr>\n",
       "    <tr>\n",
       "      <th>gene_description</th>\n",
       "      <th></th>\n",
       "    </tr>\n",
       "  </thead>\n",
       "  <tbody>\n",
       "    <tr>\n",
       "      <th>mitogen-activated protein kinase 3</th>\n",
       "      <td>117</td>\n",
       "    </tr>\n",
       "    <tr>\n",
       "      <th>mitogen-activated protein kinase 1</th>\n",
       "      <td>117</td>\n",
       "    </tr>\n",
       "    <tr>\n",
       "      <th>phosphatidylinositol-4,5-bisphosphate 3-kinase catalytic subunit delta</th>\n",
       "      <td>106</td>\n",
       "    </tr>\n",
       "  </tbody>\n",
       "</table>\n",
       "</div>"
      ],
      "text/plain": [
       "                                                    gene_rank\n",
       "gene_description                                             \n",
       " mitogen-activated protein kinase 3                       117\n",
       " mitogen-activated protein kinase 1                       117\n",
       " phosphatidylinositol-4,5-bisphosphate 3-kinase...        106"
      ]
     },
     "execution_count": 24,
     "metadata": {},
     "output_type": "execute_result"
    }
   ],
   "source": [
    "# Top n genes to extract\n",
    "n = 3\n",
    "top_genes = gene_rank.iloc[:n,]\n",
    "# The 3rd gene might change depending on the way the gene_rank dataframe was sorted.\n",
    "top_genes"
   ]
  },
  {
   "cell_type": "code",
   "execution_count": 25,
   "id": "4ba2bc16-0694-4e15-b29e-12e1fc8ddca5",
   "metadata": {},
   "outputs": [
    {
     "data": {
      "text/html": [
       "<div>\n",
       "<style scoped>\n",
       "    .dataframe tbody tr th:only-of-type {\n",
       "        vertical-align: middle;\n",
       "    }\n",
       "\n",
       "    .dataframe tbody tr th {\n",
       "        vertical-align: top;\n",
       "    }\n",
       "\n",
       "    .dataframe thead th {\n",
       "        text-align: right;\n",
       "    }\n",
       "</style>\n",
       "<table border=\"1\" class=\"dataframe\">\n",
       "  <thead>\n",
       "    <tr style=\"text-align: right;\">\n",
       "      <th></th>\n",
       "      <th>PATHWAY_ID</th>\n",
       "      <th>PATHWAY_INFO</th>\n",
       "      <th>GENE_ID</th>\n",
       "      <th>GENE_INFO</th>\n",
       "      <th>gene_description</th>\n",
       "    </tr>\n",
       "  </thead>\n",
       "  <tbody>\n",
       "    <tr>\n",
       "      <th>1841</th>\n",
       "      <td>path:hsa00562</td>\n",
       "      <td>Inositol phosphate metabolism - Homo sapiens (...</td>\n",
       "      <td>hsa:5293</td>\n",
       "      <td>PIK3CD, APDS, IMD14, IMD14A, IMD14B, P110DELTA...</td>\n",
       "      <td>phosphatidylinositol-4,5-bisphosphate 3-kinas...</td>\n",
       "    </tr>\n",
       "    <tr>\n",
       "      <th>3197</th>\n",
       "      <td>path:hsa01100</td>\n",
       "      <td>Metabolic pathways - Homo sapiens (human)</td>\n",
       "      <td>hsa:5293</td>\n",
       "      <td>PIK3CD, APDS, IMD14, IMD14A, IMD14B, P110DELTA...</td>\n",
       "      <td>phosphatidylinositol-4,5-bisphosphate 3-kinas...</td>\n",
       "    </tr>\n",
       "    <tr>\n",
       "      <th>5002</th>\n",
       "      <td>path:hsa01521</td>\n",
       "      <td>EGFR tyrosine kinase inhibitor resistance - Ho...</td>\n",
       "      <td>hsa:5595</td>\n",
       "      <td>MAPK3, ERK-1, ERK1, ERT2, HS44KDAP, HUMKER1A, ...</td>\n",
       "      <td>mitogen-activated protein kinase 3</td>\n",
       "    </tr>\n",
       "    <tr>\n",
       "      <th>5003</th>\n",
       "      <td>path:hsa01521</td>\n",
       "      <td>EGFR tyrosine kinase inhibitor resistance - Ho...</td>\n",
       "      <td>hsa:5594</td>\n",
       "      <td>MAPK1, ERK, ERK-2, ERK2, ERT1, MAPK2, NS13, P4...</td>\n",
       "      <td>mitogen-activated protein kinase 1</td>\n",
       "    </tr>\n",
       "    <tr>\n",
       "      <th>5012</th>\n",
       "      <td>path:hsa01521</td>\n",
       "      <td>EGFR tyrosine kinase inhibitor resistance - Ho...</td>\n",
       "      <td>hsa:5293</td>\n",
       "      <td>PIK3CD, APDS, IMD14, IMD14A, IMD14B, P110DELTA...</td>\n",
       "      <td>phosphatidylinositol-4,5-bisphosphate 3-kinas...</td>\n",
       "    </tr>\n",
       "    <tr>\n",
       "      <th>...</th>\n",
       "      <td>...</td>\n",
       "      <td>...</td>\n",
       "      <td>...</td>\n",
       "      <td>...</td>\n",
       "      <td>...</td>\n",
       "    </tr>\n",
       "    <tr>\n",
       "      <th>34764</th>\n",
       "      <td>path:hsa05415</td>\n",
       "      <td>Diabetic cardiomyopathy - Homo sapiens (human)</td>\n",
       "      <td>hsa:5293</td>\n",
       "      <td>PIK3CD, APDS, IMD14, IMD14A, IMD14B, P110DELTA...</td>\n",
       "      <td>phosphatidylinositol-4,5-bisphosphate 3-kinas...</td>\n",
       "    </tr>\n",
       "    <tr>\n",
       "      <th>35049</th>\n",
       "      <td>path:hsa05417</td>\n",
       "      <td>Lipid and atherosclerosis - Homo sapiens (human)</td>\n",
       "      <td>hsa:5595</td>\n",
       "      <td>MAPK3, ERK-1, ERK1, ERT2, HS44KDAP, HUMKER1A, ...</td>\n",
       "      <td>mitogen-activated protein kinase 3</td>\n",
       "    </tr>\n",
       "    <tr>\n",
       "      <th>35059</th>\n",
       "      <td>path:hsa05417</td>\n",
       "      <td>Lipid and atherosclerosis - Homo sapiens (human)</td>\n",
       "      <td>hsa:5293</td>\n",
       "      <td>PIK3CD, APDS, IMD14, IMD14A, IMD14B, P110DELTA...</td>\n",
       "      <td>phosphatidylinositol-4,5-bisphosphate 3-kinas...</td>\n",
       "    </tr>\n",
       "    <tr>\n",
       "      <th>35063</th>\n",
       "      <td>path:hsa05417</td>\n",
       "      <td>Lipid and atherosclerosis - Homo sapiens (human)</td>\n",
       "      <td>hsa:5594</td>\n",
       "      <td>MAPK1, ERK, ERK-2, ERK2, ERT1, MAPK2, NS13, P4...</td>\n",
       "      <td>mitogen-activated protein kinase 1</td>\n",
       "    </tr>\n",
       "    <tr>\n",
       "      <th>35276</th>\n",
       "      <td>path:hsa05418</td>\n",
       "      <td>Fluid shear stress and atherosclerosis - Homo ...</td>\n",
       "      <td>hsa:5293</td>\n",
       "      <td>PIK3CD, APDS, IMD14, IMD14A, IMD14B, P110DELTA...</td>\n",
       "      <td>phosphatidylinositol-4,5-bisphosphate 3-kinas...</td>\n",
       "    </tr>\n",
       "  </tbody>\n",
       "</table>\n",
       "<p>340 rows × 5 columns</p>\n",
       "</div>"
      ],
      "text/plain": [
       "          PATHWAY_ID                                       PATHWAY_INFO  \\\n",
       "1841   path:hsa00562  Inositol phosphate metabolism - Homo sapiens (...   \n",
       "3197   path:hsa01100          Metabolic pathways - Homo sapiens (human)   \n",
       "5002   path:hsa01521  EGFR tyrosine kinase inhibitor resistance - Ho...   \n",
       "5003   path:hsa01521  EGFR tyrosine kinase inhibitor resistance - Ho...   \n",
       "5012   path:hsa01521  EGFR tyrosine kinase inhibitor resistance - Ho...   \n",
       "...              ...                                                ...   \n",
       "34764  path:hsa05415     Diabetic cardiomyopathy - Homo sapiens (human)   \n",
       "35049  path:hsa05417   Lipid and atherosclerosis - Homo sapiens (human)   \n",
       "35059  path:hsa05417   Lipid and atherosclerosis - Homo sapiens (human)   \n",
       "35063  path:hsa05417   Lipid and atherosclerosis - Homo sapiens (human)   \n",
       "35276  path:hsa05418  Fluid shear stress and atherosclerosis - Homo ...   \n",
       "\n",
       "        GENE_ID                                          GENE_INFO  \\\n",
       "1841   hsa:5293  PIK3CD, APDS, IMD14, IMD14A, IMD14B, P110DELTA...   \n",
       "3197   hsa:5293  PIK3CD, APDS, IMD14, IMD14A, IMD14B, P110DELTA...   \n",
       "5002   hsa:5595  MAPK3, ERK-1, ERK1, ERT2, HS44KDAP, HUMKER1A, ...   \n",
       "5003   hsa:5594  MAPK1, ERK, ERK-2, ERK2, ERT1, MAPK2, NS13, P4...   \n",
       "5012   hsa:5293  PIK3CD, APDS, IMD14, IMD14A, IMD14B, P110DELTA...   \n",
       "...         ...                                                ...   \n",
       "34764  hsa:5293  PIK3CD, APDS, IMD14, IMD14A, IMD14B, P110DELTA...   \n",
       "35049  hsa:5595  MAPK3, ERK-1, ERK1, ERT2, HS44KDAP, HUMKER1A, ...   \n",
       "35059  hsa:5293  PIK3CD, APDS, IMD14, IMD14A, IMD14B, P110DELTA...   \n",
       "35063  hsa:5594  MAPK1, ERK, ERK-2, ERK2, ERT1, MAPK2, NS13, P4...   \n",
       "35276  hsa:5293  PIK3CD, APDS, IMD14, IMD14A, IMD14B, P110DELTA...   \n",
       "\n",
       "                                        gene_description  \n",
       "1841    phosphatidylinositol-4,5-bisphosphate 3-kinas...  \n",
       "3197    phosphatidylinositol-4,5-bisphosphate 3-kinas...  \n",
       "5002                  mitogen-activated protein kinase 3  \n",
       "5003                  mitogen-activated protein kinase 1  \n",
       "5012    phosphatidylinositol-4,5-bisphosphate 3-kinas...  \n",
       "...                                                  ...  \n",
       "34764   phosphatidylinositol-4,5-bisphosphate 3-kinas...  \n",
       "35049                 mitogen-activated protein kinase 3  \n",
       "35059   phosphatidylinositol-4,5-bisphosphate 3-kinas...  \n",
       "35063                 mitogen-activated protein kinase 1  \n",
       "35276   phosphatidylinositol-4,5-bisphosphate 3-kinas...  \n",
       "\n",
       "[340 rows x 5 columns]"
      ]
     },
     "execution_count": 25,
     "metadata": {},
     "output_type": "execute_result"
    }
   ],
   "source": [
    "# We verified that the gene description is unique to the gene ID, at least in the case of our top n genes\n",
    "top_genes_pinfo = merged[merged.gene_description.isin(top_genes.index)]\n",
    "top_genes_pinfo"
   ]
  },
  {
   "cell_type": "code",
   "execution_count": 26,
   "id": "6ad446a8-24a8-4af2-9d3f-7bbf82c40a2e",
   "metadata": {},
   "outputs": [
    {
     "name": "stdout",
     "output_type": "stream",
     "text": [
      "Top 3 ranked genes:\n",
      "hsa:5293 -- phosphatidylinositol-4,5-bisphosphate 3-kinase catalytic subunit delta: 106 pathways\n",
      "including but not limited to ['path:hsa05131', 'path:hsa05230', 'path:hsa04210', 'path:hsa05100', 'path:hsa05170', 'path:hsa05415', 'path:hsa05200', 'path:hsa04960', 'path:hsa04068', 'path:hsa05206']\n",
      "\n",
      "hsa:5595 -- mitogen-activated protein kinase 3: 117 pathways\n",
      "including but not limited to ['path:hsa05131', 'path:hsa04114', 'path:hsa05230', 'path:hsa04210', 'path:hsa05022', 'path:hsa05170', 'path:hsa05200', 'path:hsa04928', 'path:hsa04960', 'path:hsa04068']\n",
      "\n",
      "hsa:5594 -- mitogen-activated protein kinase 1: 117 pathways\n",
      "including but not limited to ['path:hsa05131', 'path:hsa04114', 'path:hsa05230', 'path:hsa04210', 'path:hsa05022', 'path:hsa05170', 'path:hsa05200', 'path:hsa04928', 'path:hsa04960', 'path:hsa04068']\n",
      "\n"
     ]
    }
   ],
   "source": [
    "# Create a dictionary with n elements,\n",
    "# where the keys are the gene IDs and the values are the sets of pathways.\n",
    "dict_geneid_pw = dict()\n",
    "top_gene_ids = top_genes_pinfo.GENE_ID.unique()\n",
    "print(f'Top {n} ranked genes:')\n",
    "for gene in top_gene_ids:\n",
    "    # Could use merged dataframe or geneid_pathway dataframe from source\n",
    "    dict_geneid_pw[gene] = set(top_genes_pinfo[top_genes_pinfo.GENE_ID == gene].PATHWAY_ID)\n",
    "    # For description purposes\n",
    "    g_description = top_genes_pinfo[top_genes_pinfo['GENE_ID'] == gene].gene_description.unique()[0]\n",
    "    print(f'{gene} --{g_description}: {len(dict_geneid_pw[gene])} pathways')\n",
    "    print(f'including but not limited to {list(dict_geneid_pw[gene])[:10]}\\n')\n",
    "\n",
    "    "
   ]
  },
  {
   "cell_type": "code",
   "execution_count": 27,
   "id": "d76d72f2-e09b-404f-97e9-9c71976338c2",
   "metadata": {},
   "outputs": [],
   "source": [
    "# Save to tab-delimited file\n",
    "with open(path + '2.5_top_genes_pathways.txt', 'w') as file5:\n",
    "    for key in dict_geneid_pw.keys():\n",
    "        file5.write(key)\n",
    "        file5.write('\\t')\n",
    "        file5.write(str(dict_geneid_pw[key]))\n",
    "        file5.write('\\n')\n",
    "    "
   ]
  },
  {
   "cell_type": "markdown",
   "id": "f7b06f54-40e7-4b63-aa96-fc10d32c3d73",
   "metadata": {},
   "source": [
    "## 6. Compute and display a Venn diagram for number of overlapping pathways for the top 3 genes."
   ]
  },
  {
   "cell_type": "code",
   "execution_count": 28,
   "id": "dc9cf4bc-111f-4339-8489-7e1c9a57bb5f",
   "metadata": {},
   "outputs": [],
   "source": [
    "#Importing matplotlib package and useful libraries to plot our dataset as a venn diagram of top 3 genes\n",
    "#Venn3 is being imported because it is used to create a venn diagram between 3 sets\n",
    "\n",
    "import matplotlib as mlp\n",
    "from matplotlib_venn import venn3, venn3_circles\n",
    "from matplotlib import pyplot as plt\n"
   ]
  },
  {
   "cell_type": "code",
   "execution_count": 29,
   "id": "52f3c488-faa5-4f21-9f1e-f24f12417ed2",
   "metadata": {},
   "outputs": [],
   "source": [
    "#help(venn3)"
   ]
  },
  {
   "cell_type": "code",
   "execution_count": 30,
   "id": "54cd49af-8d73-425d-a219-47fc92f48834",
   "metadata": {},
   "outputs": [
    {
     "data": {
      "text/plain": [
       "array(['hsa:5293', 'hsa:5595', 'hsa:5594'], dtype=object)"
      ]
     },
     "execution_count": 30,
     "metadata": {},
     "output_type": "execute_result"
    }
   ],
   "source": [
    "top_gene_ids\n",
    "#type(top_gene_ids)"
   ]
  },
  {
   "cell_type": "code",
   "execution_count": 31,
   "id": "71e37c22-3818-4d52-91cd-633bed36a4db",
   "metadata": {},
   "outputs": [
    {
     "data": {
      "text/plain": [
       "3"
      ]
     },
     "execution_count": 31,
     "metadata": {},
     "output_type": "execute_result"
    }
   ],
   "source": [
    "n = len(top_gene_ids)\n",
    "n"
   ]
  },
  {
   "cell_type": "code",
   "execution_count": 32,
   "id": "ad552e03-21b2-463b-a86c-e5450b69b0df",
   "metadata": {},
   "outputs": [],
   "source": [
    "#Extracting the value (pathways) of the 3 keys (gene_id of the top 3 gene) from the dictionary of geneid_pw(gene_id and pathways)\n",
    "\n",
    "Gene_1 = set(dict_geneid_pw.get(top_gene_ids[0]))\n",
    "Gene_2 = set(dict_geneid_pw.get(top_gene_ids[1]))\n",
    "Gene_3 = set(dict_geneid_pw.get(top_gene_ids[2]))"
   ]
  },
  {
   "cell_type": "code",
   "execution_count": 33,
   "id": "7c0d6fa4-b381-453c-b364-fe9c5df5023e",
   "metadata": {},
   "outputs": [
    {
     "name": "stderr",
     "output_type": "stream",
     "text": [
      "C:\\Users\\trastogi\\Anaconda3\\lib\\site-packages\\matplotlib_venn\\_venn3.py:117: UserWarning: Bad circle positioning\n",
      "  warnings.warn(\"Bad circle positioning\")\n"
     ]
    },
    {
     "data": {
      "image/png": "[encoded data removed]",
      "text/plain": [
       "<Figure size 432x288 with 1 Axes>"
      ]
     },
     "metadata": {},
     "output_type": "display_data"
    }
   ],
   "source": [
    "#Using the venn3 function on a simple dataset to know how to create a venn diagram\n",
    "#Added more similar values in the sets so as to determine how will be the venn diagram if the two sets are almost identical\n",
    "#Two almost identical sets overlap each other when a venn diagram is plotted\n",
    "#This is clearly visible in the venn diagram below\n",
    "#Set B and Set C are almost identical (with only one element being different in Set B (it has one more element than Set C))\n",
    "#Thus Set C is seen to be inside Set B (overlapping is seen between Set B and Set C)\n",
    "\n",
    "from matplotlib_venn import venn3\n",
    "from matplotlib import pyplot as plt\n",
    "\n",
    "\n",
    "# Venn3\n",
    "set_a = set(['A', 'B', 'C', 'E', 'F', 'G'])\n",
    "set_b = set(['B', 'C', 'D', 'E'])\n",
    "set_c = set(['C', 'D', 'E'])\n",
    "\n",
    "venn3(subsets=[set_a, set_b, set_c],\n",
    "      set_labels=['Set_A', 'Set_B', 'Set_C'],\n",
    "      set_colors=['red', 'blue', 'green'])\n",
    "\n",
    "plt.show()"
   ]
  },
  {
   "cell_type": "code",
   "execution_count": 34,
   "id": "4e978cad-4bac-4e2d-9431-acd3984ba98d",
   "metadata": {},
   "outputs": [
    {
     "data": {
      "image/png": "[encoded data removed]",
      "text/plain": [
       "<Figure size 432x288 with 1 Axes>"
      ]
     },
     "metadata": {},
     "output_type": "display_data"
    }
   ],
   "source": [
    "#Plotting a venn diagram between pathways of the top 3 genes from the dataset\n",
    "\n",
    "venn3(subsets=[Gene_1, Gene_2, Gene_3],\n",
    "     set_labels=[\"Gene_1\", \"Gene_2\", \"Gene_3\"],\n",
    "     set_colors=['red', 'blue', 'green'])\n",
    "\n",
    "plt.show()"
   ]
  },
  {
   "cell_type": "code",
   "execution_count": 35,
   "id": "eb4c962d-56a6-4d5f-8f51-8a9c3f592425",
   "metadata": {},
   "outputs": [],
   "source": [
    "#Sets Gene_2 and Gene_3 are completely overlapped. This is because the two sets are identical and have the same pathways(elements) in them.\n",
    "#This is evaluated and confirmed using the intersection() function between Gene_2 and Gene_3"
   ]
  },
  {
   "cell_type": "code",
   "execution_count": 36,
   "id": "1fdfd573-9ba9-4e0f-8819-0fd549a691ad",
   "metadata": {},
   "outputs": [
    {
     "data": {
      "text/plain": [
       "True"
      ]
     },
     "execution_count": 36,
     "metadata": {},
     "output_type": "execute_result"
    }
   ],
   "source": [
    "Gene_3.intersection(Gene_2) == Gene_3"
   ]
  },
  {
   "cell_type": "code",
   "execution_count": 37,
   "id": "f73df48b-4c2c-48fe-aeef-5de1c946d9ba",
   "metadata": {},
   "outputs": [
    {
     "data": {
      "text/plain": [
       "84"
      ]
     },
     "execution_count": 37,
     "metadata": {},
     "output_type": "execute_result"
    }
   ],
   "source": [
    "#This tells the number of pathways which are common in Gene_1, Gene_2 and Gene_3\n",
    "#The evaluation tells that there are 84 pathways which are common in the top 3 genes, i.e. \"84 overlapping pathways in the top 3 genes\"\n",
    "\n",
    "len(Gene_3.intersection(Gene_2).intersection(Gene_1))"
   ]
  }
 ],
 "metadata": {
  "kernelspec": {
   "display_name": "Python 3",
   "language": "python",
   "name": "python3"
  },
  "language_info": {
   "codemirror_mode": {
    "name": "ipython",
    "version": 3
   },
   "file_extension": ".py",
   "mimetype": "text/x-python",
   "name": "python",
   "nbconvert_exporter": "python",
   "pygments_lexer": "ipython3",
   "version": "3.8.8"
  }
 },
 "nbformat": 4,
 "nbformat_minor": 5
}
