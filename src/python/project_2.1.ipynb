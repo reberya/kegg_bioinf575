{
 "cells": [
  {
   "cell_type": "markdown",
   "id": "6ff9bbdf-cc57-4215-bbe3-85efea9ee982",
   "metadata": {},
   "source": [
    "# BIOINF 575 - Group Project - Kegg Pathway Overlap\n",
    "#### Authors:\n",
    "* Ryan Rebernick\n",
    "* Elysia Chou\n",
    "* Mahnoor Gondal\n",
    "* Tusharika Rastogi\n"
   ]
  },
  {
   "cell_type": "code",
   "execution_count": 6,
   "id": "ce617644-6e50-4d3d-bed2-236430512bda",
   "metadata": {},
   "outputs": [],
   "source": [
    "import numpy as np\n",
    "import pandas as pd"
   ]
  },
  {
   "cell_type": "markdown",
   "id": "248eeb90-2269-4e83-a7a7-4955fbf827af",
   "metadata": {},
   "source": [
    "## 1. Map/merge the information by PATHWAY_ID and GENE_ID. "
   ]
  },
  {
   "cell_type": "markdown",
   "id": "cc182fff-66e6-4da4-989d-69bbcde737fe",
   "metadata": {},
   "source": [
    "#### First we read in the data and store in dataframes for easy access."
   ]
  },
  {
   "cell_type": "code",
   "execution_count": 7,
   "id": "e4cffbdf-c8bf-4067-823d-7170c06ac7ac",
   "metadata": {},
   "outputs": [
    {
     "name": "stdout",
     "output_type": "stream",
     "text": [
      "      pathway_id                                       pathway_info\n",
      "0  path:hsa00010  Glycolysis / Gluconeogenesis - Homo sapiens (h...\n",
      "1  path:hsa00020   Citrate cycle (TCA cycle) - Homo sapiens (human)\n",
      "2  path:hsa00030   Pentose phosphate pathway - Homo sapiens (human)\n",
      "3  path:hsa00040  Pentose and glucuronate interconversions - Hom...\n",
      "4  path:hsa00051  Fructose and mannose metabolism - Homo sapiens...\n",
      "(345, 2)\n",
      "     gene_id     pathway_id\n",
      "0  hsa:10327  path:hsa00010\n",
      "1    hsa:124  path:hsa00010\n",
      "2    hsa:125  path:hsa00010\n",
      "3    hsa:126  path:hsa00010\n",
      "4    hsa:127  path:hsa00010\n",
      "(35381, 2)\n",
      "         gene_id                                          gene_info\n",
      "0  hsa:100423038                  MIR466, hsa-mir-466; microRNA 466\n",
      "1  hsa:100616498                   MIR378E, mir-378e; microRNA 378e\n",
      "2     hsa:442913  MIR376C, MIR368, MIRN368, MIRN376C, hsa-mir-36...\n",
      "3     hsa:574461                   MIR520E, MIRN520E; microRNA 520e\n",
      "4  hsa:100616159                             MIR4779; microRNA 4779\n",
      "(22199, 2)\n"
     ]
    }
   ],
   "source": [
    "\n",
    "# Read the pathway names\n",
    "pathway_pinfo = pd.read_table('http://rest.kegg.jp/list/pathway/hsa', header=None)\n",
    "pathway_pinfo.columns = ['pathway_id', 'pathway_info']\n",
    "print(pathway_pinfo.head())\n",
    "print(np.shape(pathway_pinfo))\n",
    "\n",
    "# Read the gene-pathway\n",
    "geneid_pathway = pd.read_table('http://rest.kegg.jp/link/pathway/hsa', header=None)\n",
    "geneid_pathway.columns = ['gene_id', 'pathway_id']\n",
    "print(geneid_pathway.head())\n",
    "print(np.shape(geneid_pathway))\n",
    "\n",
    "# Read the pathway names\n",
    "geneid_ginfo = pd.read_table('http://rest.kegg.jp/list/hsa', header=None)\n",
    "geneid_ginfo.columns = ['gene_id', 'gene_info']\n",
    "print(geneid_ginfo.head())\n",
    "print(np.shape(geneid_ginfo))\n"
   ]
  },
  {
   "cell_type": "markdown",
   "id": "76d96d2c-50ac-4982-a849-f5bfa5465f6a",
   "metadata": {},
   "source": [
    "#### Next we need to merge the information by pathwya ids and gene ids\n",
    "\n",
    "Note that in merging, some genes did not have values in the geneid_ginfo file. These were left as NaN. I have shown them for reference."
   ]
  },
  {
   "cell_type": "code",
   "execution_count": 8,
   "id": "8d964ece-6375-48b9-ae77-a6fc024eef05",
   "metadata": {},
   "outputs": [
    {
     "name": "stdout",
     "output_type": "stream",
     "text": [
      "          pathway_id                                       pathway_info  \\\n",
      "667    path:hsa00230           Purine metabolism - Homo sapiens (human)   \n",
      "2421   path:hsa00730         Thiamine metabolism - Homo sapiens (human)   \n",
      "4882   path:hsa01240   Biosynthesis of cofactors - Homo sapiens (human)   \n",
      "5415   path:hsa03008  Ribosome biogenesis in eukaryotes - Homo sapie...   \n",
      "5658   path:hsa03013  Nucleocytoplasmic transport - Homo sapiens (hu...   \n",
      "5778   path:hsa03015   mRNA surveillance pathway - Homo sapiens (human)   \n",
      "6218   path:hsa03320      PPAR signaling pathway - Homo sapiens (human)   \n",
      "20703  path:hsa04923  Regulation of lipolysis in adipocytes - Homo s...   \n",
      "23923  path:hsa05014  Amyotrophic lateral sclerosis - Homo sapiens (...   \n",
      "28405  path:hsa05164                 Influenza A - Homo sapiens (human)   \n",
      "29492  path:hsa05168  Herpes simplex virus 1 infection - Homo sapien...   \n",
      "29218  path:hsa05168  Herpes simplex virus 1 infection - Homo sapien...   \n",
      "\n",
      "             gene_id gene_info  \n",
      "667       hsa:390877       NaN  \n",
      "2421      hsa:390877       NaN  \n",
      "4882      hsa:390877       NaN  \n",
      "5415       hsa:55998       NaN  \n",
      "5658       hsa:55998       NaN  \n",
      "5778       hsa:55998       NaN  \n",
      "6218   hsa:112267859       NaN  \n",
      "20703  hsa:112267859       NaN  \n",
      "23923      hsa:55998       NaN  \n",
      "28405      hsa:55998       NaN  \n",
      "29492      hsa:55998       NaN  \n",
      "29218  hsa:100131539       NaN  \n"
     ]
    }
   ],
   "source": [
    "\n",
    "# combine the pathway information and the gene ids\n",
    "merged = pd.merge(pathway_pinfo, geneid_pathway, on = 'pathway_id', how = 'outer')\n",
    "\n",
    "# add the gene info\n",
    "merged = pd.merge(merged, geneid_ginfo, on = 'gene_id', how = 'left')\n",
    "\n",
    "# sort and look at the result\n",
    "merged = merged.sort_values(by = 'pathway_id')\n",
    "#print(merged.head())\n",
    "#print(np.shape(merged))\n",
    "\n",
    "# View the NA genes\n",
    "print(merged[merged['gene_info'].isnull()])\n",
    "\n"
   ]
  },
  {
   "cell_type": "markdown",
   "id": "a50d94de-121a-4e7e-a158-f58752cdd6ba",
   "metadata": {},
   "source": [
    "#### Save this file for future use"
   ]
  },
  {
   "cell_type": "code",
   "execution_count": 9,
   "id": "c5d3eb99-74e2-4e09-895c-cdea58a5c728",
   "metadata": {},
   "outputs": [],
   "source": [
    "\n",
    "merged.to_csv(\"/Users/ryanrebernick/Desktop/projects/kegg_bioinf575/int/2.1_merged_genes_pathways.csv\", sep = ',', mode = 'w', index=False)\n",
    "    "
   ]
  }
 ],
 "metadata": {
  "kernelspec": {
   "display_name": "Python 3",
   "language": "python",
   "name": "python3"
  },
  "language_info": {
   "codemirror_mode": {
    "name": "ipython",
    "version": 3
   },
   "file_extension": ".py",
   "mimetype": "text/x-python",
   "name": "python",
   "nbconvert_exporter": "python",
   "pygments_lexer": "ipython3",
   "version": "3.8.8"
  }
 },
 "nbformat": 4,
 "nbformat_minor": 5
}
